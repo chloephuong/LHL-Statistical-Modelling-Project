{
 "cells": [
  {
   "cell_type": "code",
   "execution_count": 164,
   "metadata": {},
   "outputs": [],
   "source": [
    "import requests\n",
    "import pandas as pd"
   ]
  },
  {
   "attachments": {},
   "cell_type": "markdown",
   "metadata": {},
   "source": [
    "# CityBikes"
   ]
  },
  {
   "cell_type": "code",
   "execution_count": 191,
   "metadata": {},
   "outputs": [],
   "source": [
    "# API endpoint for Toronto city\n",
    "url = 'https://api.citybik.es/v2/networks/toronto'\n",
    "\n",
    "# Send GET request to retrieve bike-sharing data for Toronto\n",
    "response = requests.get(url)\n",
    "\n",
    "# Extract the data from the response\n",
    "data = response.json()\n",
    "\n",
    "# Extract the list of stations\n",
    "stations = data['network']['stations']\n",
    "\n",
    "# Iterate over each station and access the details\n",
    "for i, station in enumerate(stations):\n",
    "    if i > 100:\n",
    "        break  # Exit the loop if the limit is reached\n",
    "\n",
    "    station_id = station.get('id')\n",
    "    name = station.get('name')\n",
    "    latitude = station.get('latitude')\n",
    "    longitude = station.get('longitude')\n",
    "    num_of_bikes = station.get('free_bikes')\n",
    "\n",
    "# Create a list to store the station details\n",
    "station_details = []\n",
    "\n",
    "# Iterate over each station and access the details\n",
    "for i, station in enumerate(stations):\n",
    "    if i > 100:\n",
    "        break  # Exit the loop if the limit is reached\n",
    "    station_id = station['id']\n",
    "    name = station['name']\n",
    "    latitude = station['latitude']\n",
    "    longitude = station['longitude']\n",
    "    num_of_bikes = station['free_bikes']\n",
    "\n",
    "    # Append the station details as a dictionary to the list\n",
    "    station_details.append({\n",
    "        'Station ID': station_id,\n",
    "        'Name': name,\n",
    "        'Latitude': latitude,\n",
    "        'Longitude': longitude,\n",
    "        'Number of Bikes': num_of_bikes\n",
    "    })"
   ]
  },
  {
   "cell_type": "code",
   "execution_count": 192,
   "metadata": {},
   "outputs": [
    {
     "data": {
      "text/html": [
       "<div>\n",
       "<style scoped>\n",
       "    .dataframe tbody tr th:only-of-type {\n",
       "        vertical-align: middle;\n",
       "    }\n",
       "\n",
       "    .dataframe tbody tr th {\n",
       "        vertical-align: top;\n",
       "    }\n",
       "\n",
       "    .dataframe thead th {\n",
       "        text-align: right;\n",
       "    }\n",
       "</style>\n",
       "<table border=\"1\" class=\"dataframe\">\n",
       "  <thead>\n",
       "    <tr style=\"text-align: right;\">\n",
       "      <th></th>\n",
       "      <th>Station ID</th>\n",
       "      <th>Name</th>\n",
       "      <th>Latitude</th>\n",
       "      <th>Longitude</th>\n",
       "      <th>Number of Bikes</th>\n",
       "    </tr>\n",
       "  </thead>\n",
       "  <tbody>\n",
       "    <tr>\n",
       "      <th>0</th>\n",
       "      <td>fb337bbed72e2be090071e199899b2be</td>\n",
       "      <td>Queen St E / Woodward Ave</td>\n",
       "      <td>43.665269</td>\n",
       "      <td>-79.319796</td>\n",
       "      <td>16</td>\n",
       "    </tr>\n",
       "    <tr>\n",
       "      <th>1</th>\n",
       "      <td>4ff88d5880e71aa40d34cfe5d09b0ca7</td>\n",
       "      <td>Primrose Ave / Davenport Rd</td>\n",
       "      <td>43.671420</td>\n",
       "      <td>-79.445947</td>\n",
       "      <td>4</td>\n",
       "    </tr>\n",
       "    <tr>\n",
       "      <th>2</th>\n",
       "      <td>a09c67c0b419654d907c9134b108e328</td>\n",
       "      <td>Queen St. E / Rhodes Ave.</td>\n",
       "      <td>43.666224</td>\n",
       "      <td>-79.317693</td>\n",
       "      <td>22</td>\n",
       "    </tr>\n",
       "    <tr>\n",
       "      <th>3</th>\n",
       "      <td>d6a9daee68070a8b106cfb598d81308c</td>\n",
       "      <td>Bond St / Queen St E</td>\n",
       "      <td>43.653236</td>\n",
       "      <td>-79.376716</td>\n",
       "      <td>7</td>\n",
       "    </tr>\n",
       "    <tr>\n",
       "      <th>4</th>\n",
       "      <td>8f8af40d9388c8a3962559e8681d3db7</td>\n",
       "      <td>Church St / Alexander St</td>\n",
       "      <td>43.663722</td>\n",
       "      <td>-79.380288</td>\n",
       "      <td>10</td>\n",
       "    </tr>\n",
       "    <tr>\n",
       "      <th>...</th>\n",
       "      <td>...</td>\n",
       "      <td>...</td>\n",
       "      <td>...</td>\n",
       "      <td>...</td>\n",
       "      <td>...</td>\n",
       "    </tr>\n",
       "    <tr>\n",
       "      <th>96</th>\n",
       "      <td>a7ca61373064c6581461132f1ae050de</td>\n",
       "      <td>Broadview Ave / Westwood Ave</td>\n",
       "      <td>43.684865</td>\n",
       "      <td>-79.356602</td>\n",
       "      <td>22</td>\n",
       "    </tr>\n",
       "    <tr>\n",
       "      <th>97</th>\n",
       "      <td>62a1c39596c3d512dfa04f1d29b81035</td>\n",
       "      <td>Fulton Ave / Pape Ave</td>\n",
       "      <td>43.683950</td>\n",
       "      <td>-79.347046</td>\n",
       "      <td>4</td>\n",
       "    </tr>\n",
       "    <tr>\n",
       "      <th>98</th>\n",
       "      <td>b960be1eba97f5aefc6ad39ecc93cb11</td>\n",
       "      <td>Cosburn Ave / Donlands Ave</td>\n",
       "      <td>43.690537</td>\n",
       "      <td>-79.341307</td>\n",
       "      <td>5</td>\n",
       "    </tr>\n",
       "    <tr>\n",
       "      <th>99</th>\n",
       "      <td>908b17c0d06011373777bace0a3cd74c</td>\n",
       "      <td>Beltline Trail / Chaplin Cres.</td>\n",
       "      <td>43.704461</td>\n",
       "      <td>-79.423122</td>\n",
       "      <td>9</td>\n",
       "    </tr>\n",
       "    <tr>\n",
       "      <th>100</th>\n",
       "      <td>d2ce6ae839b7df2c912ab140253a5574</td>\n",
       "      <td>Lake Shore Blvd E / Leslie St</td>\n",
       "      <td>43.659195</td>\n",
       "      <td>-79.329196</td>\n",
       "      <td>16</td>\n",
       "    </tr>\n",
       "  </tbody>\n",
       "</table>\n",
       "<p>101 rows × 5 columns</p>\n",
       "</div>"
      ],
      "text/plain": [
       "                           Station ID                            Name  \\\n",
       "0    fb337bbed72e2be090071e199899b2be       Queen St E / Woodward Ave   \n",
       "1    4ff88d5880e71aa40d34cfe5d09b0ca7     Primrose Ave / Davenport Rd   \n",
       "2    a09c67c0b419654d907c9134b108e328       Queen St. E / Rhodes Ave.   \n",
       "3    d6a9daee68070a8b106cfb598d81308c            Bond St / Queen St E   \n",
       "4    8f8af40d9388c8a3962559e8681d3db7        Church St / Alexander St   \n",
       "..                                ...                             ...   \n",
       "96   a7ca61373064c6581461132f1ae050de    Broadview Ave / Westwood Ave   \n",
       "97   62a1c39596c3d512dfa04f1d29b81035           Fulton Ave / Pape Ave   \n",
       "98   b960be1eba97f5aefc6ad39ecc93cb11      Cosburn Ave / Donlands Ave   \n",
       "99   908b17c0d06011373777bace0a3cd74c  Beltline Trail / Chaplin Cres.   \n",
       "100  d2ce6ae839b7df2c912ab140253a5574   Lake Shore Blvd E / Leslie St   \n",
       "\n",
       "      Latitude  Longitude  Number of Bikes  \n",
       "0    43.665269 -79.319796               16  \n",
       "1    43.671420 -79.445947                4  \n",
       "2    43.666224 -79.317693               22  \n",
       "3    43.653236 -79.376716                7  \n",
       "4    43.663722 -79.380288               10  \n",
       "..         ...        ...              ...  \n",
       "96   43.684865 -79.356602               22  \n",
       "97   43.683950 -79.347046                4  \n",
       "98   43.690537 -79.341307                5  \n",
       "99   43.704461 -79.423122                9  \n",
       "100  43.659195 -79.329196               16  \n",
       "\n",
       "[101 rows x 5 columns]"
      ]
     },
     "execution_count": 192,
     "metadata": {},
     "output_type": "execute_result"
    }
   ],
   "source": [
    "# Create the bike stations DataFrame\n",
    "bike_df = pd.DataFrame(station_details)\n",
    "bike_df"
   ]
  },
  {
   "attachments": {},
   "cell_type": "markdown",
   "metadata": {},
   "source": [
    "# Foursquare"
   ]
  },
  {
   "attachments": {},
   "cell_type": "markdown",
   "metadata": {},
   "source": [
    "Send a request to Foursquare with a small radius (1000m) for all the bike stations in your city of choice. "
   ]
  },
  {
   "attachments": {},
   "cell_type": "markdown",
   "metadata": {},
   "source": [
    "Parse through the response to get the POI (such as restaurants, bars, etc) details you want (ratings, name, location, etc)"
   ]
  },
  {
   "cell_type": "code",
   "execution_count": 193,
   "metadata": {},
   "outputs": [],
   "source": [
    "API_key = 'fsq3dQYQp2ka71CYVbI6ehUtmigysRY/oygrq7j7KFRHyI8='\n",
    "url = 'https://api.foursquare.com/v3/places/nearby'\n",
    "radius = 1000  # Radius in meters\n",
    "limit = 10"
   ]
  },
  {
   "cell_type": "code",
   "execution_count": 180,
   "metadata": {},
   "outputs": [],
   "source": [
    "# Create a list to store the restaurant details\n",
    "fq_rest_details = []"
   ]
  },
  {
   "cell_type": "code",
   "execution_count": 181,
   "metadata": {},
   "outputs": [],
   "source": [
    "# Iterate over each row in the dataframe\n",
    "for index, row in bike_df.iterrows():\n",
    "    latitude = row['Latitude']\n",
    "    longitude = row['Longitude']\n",
    "\n",
    "    params = {\n",
    "        'll': f'{latitude},{longitude}',\n",
    "        'radius': radius,\n",
    "        'query': 'restaurant',\n",
    "        'limit': limit\n",
    "    }\n",
    "    headers = {\"Authorization\": API_key}\n",
    "\n",
    "    response = requests.get(url, params=params, headers=headers)\n",
    "\n",
    "    fq_rest_data = response.json()\n",
    "\n",
    "    # Extract the list of restaurants\n",
    "    restaurants = fq_rest_data['results']\n",
    "\n",
    "    # Iterate over each restaurant and extract the details\n",
    "    for restaurant in restaurants:\n",
    "        name = restaurant['name']\n",
    "        location = restaurant['location']['formatted_address']\n",
    "        latitude = restaurant['geocodes']['main']['latitude']\n",
    "        longitude = restaurant['geocodes']['main']['longitude']\n",
    "\n",
    "        # Append the restaurant details as a dictionary to the list\n",
    "        fq_rest_details.append({\n",
    "            'Retaurant name': name,\n",
    "            'Name': name,\n",
    "            'Latitude': latitude,\n",
    "            'Longitude': longitude\n",
    "        })\n"
   ]
  },
  {
   "attachments": {},
   "cell_type": "markdown",
   "metadata": {},
   "source": [
    "Put your parsed results into a DataFrame"
   ]
  },
  {
   "cell_type": "code",
   "execution_count": 182,
   "metadata": {},
   "outputs": [
    {
     "data": {
      "text/html": [
       "<div>\n",
       "<style scoped>\n",
       "    .dataframe tbody tr th:only-of-type {\n",
       "        vertical-align: middle;\n",
       "    }\n",
       "\n",
       "    .dataframe tbody tr th {\n",
       "        vertical-align: top;\n",
       "    }\n",
       "\n",
       "    .dataframe thead th {\n",
       "        text-align: right;\n",
       "    }\n",
       "</style>\n",
       "<table border=\"1\" class=\"dataframe\">\n",
       "  <thead>\n",
       "    <tr style=\"text-align: right;\">\n",
       "      <th></th>\n",
       "      <th>Retaurant name</th>\n",
       "      <th>Name</th>\n",
       "      <th>Latitude</th>\n",
       "      <th>Longitude</th>\n",
       "    </tr>\n",
       "  </thead>\n",
       "  <tbody>\n",
       "    <tr>\n",
       "      <th>0</th>\n",
       "      <td>Gio Rana's Really Really Nice Restaurant</td>\n",
       "      <td>Gio Rana's Really Really Nice Restaurant</td>\n",
       "      <td>43.663345</td>\n",
       "      <td>-79.330418</td>\n",
       "    </tr>\n",
       "    <tr>\n",
       "      <th>1</th>\n",
       "      <td>Occasions Restaurant</td>\n",
       "      <td>Occasions Restaurant</td>\n",
       "      <td>43.673316</td>\n",
       "      <td>-79.318244</td>\n",
       "    </tr>\n",
       "    <tr>\n",
       "      <th>2</th>\n",
       "      <td>Regency Restaurant Inc</td>\n",
       "      <td>Regency Restaurant Inc</td>\n",
       "      <td>43.672004</td>\n",
       "      <td>-79.322433</td>\n",
       "    </tr>\n",
       "    <tr>\n",
       "      <th>3</th>\n",
       "      <td>Famous Indian Cuisine</td>\n",
       "      <td>Famous Indian Cuisine</td>\n",
       "      <td>43.672148</td>\n",
       "      <td>-79.321988</td>\n",
       "    </tr>\n",
       "    <tr>\n",
       "      <th>4</th>\n",
       "      <td>Restaurant Tiflisi</td>\n",
       "      <td>Restaurant Tiflisi</td>\n",
       "      <td>43.669848</td>\n",
       "      <td>-79.301657</td>\n",
       "    </tr>\n",
       "    <tr>\n",
       "      <th>...</th>\n",
       "      <td>...</td>\n",
       "      <td>...</td>\n",
       "      <td>...</td>\n",
       "      <td>...</td>\n",
       "    </tr>\n",
       "    <tr>\n",
       "      <th>433</th>\n",
       "      <td>The Local</td>\n",
       "      <td>The Local</td>\n",
       "      <td>43.650937</td>\n",
       "      <td>-79.451080</td>\n",
       "    </tr>\n",
       "    <tr>\n",
       "      <th>434</th>\n",
       "      <td>Domani Restaurant &amp; Wine Bar</td>\n",
       "      <td>Domani Restaurant &amp; Wine Bar</td>\n",
       "      <td>43.649275</td>\n",
       "      <td>-79.450018</td>\n",
       "    </tr>\n",
       "    <tr>\n",
       "      <th>435</th>\n",
       "      <td>La Bella Managua</td>\n",
       "      <td>La Bella Managua</td>\n",
       "      <td>43.662323</td>\n",
       "      <td>-79.425086</td>\n",
       "    </tr>\n",
       "    <tr>\n",
       "      <th>436</th>\n",
       "      <td>River</td>\n",
       "      <td>River</td>\n",
       "      <td>43.651245</td>\n",
       "      <td>-79.450709</td>\n",
       "    </tr>\n",
       "    <tr>\n",
       "      <th>437</th>\n",
       "      <td>Grenadier Restaurant parking</td>\n",
       "      <td>Grenadier Restaurant parking</td>\n",
       "      <td>43.645467</td>\n",
       "      <td>-79.466002</td>\n",
       "    </tr>\n",
       "  </tbody>\n",
       "</table>\n",
       "<p>438 rows × 4 columns</p>\n",
       "</div>"
      ],
      "text/plain": [
       "                               Retaurant name  \\\n",
       "0    Gio Rana's Really Really Nice Restaurant   \n",
       "1                        Occasions Restaurant   \n",
       "2                      Regency Restaurant Inc   \n",
       "3                       Famous Indian Cuisine   \n",
       "4                          Restaurant Tiflisi   \n",
       "..                                        ...   \n",
       "433                                 The Local   \n",
       "434              Domani Restaurant & Wine Bar   \n",
       "435                          La Bella Managua   \n",
       "436                                     River   \n",
       "437              Grenadier Restaurant parking   \n",
       "\n",
       "                                         Name   Latitude  Longitude  \n",
       "0    Gio Rana's Really Really Nice Restaurant  43.663345 -79.330418  \n",
       "1                        Occasions Restaurant  43.673316 -79.318244  \n",
       "2                      Regency Restaurant Inc  43.672004 -79.322433  \n",
       "3                       Famous Indian Cuisine  43.672148 -79.321988  \n",
       "4                          Restaurant Tiflisi  43.669848 -79.301657  \n",
       "..                                        ...        ...        ...  \n",
       "433                                 The Local  43.650937 -79.451080  \n",
       "434              Domani Restaurant & Wine Bar  43.649275 -79.450018  \n",
       "435                          La Bella Managua  43.662323 -79.425086  \n",
       "436                                     River  43.651245 -79.450709  \n",
       "437              Grenadier Restaurant parking  43.645467 -79.466002  \n",
       "\n",
       "[438 rows x 4 columns]"
      ]
     },
     "execution_count": 182,
     "metadata": {},
     "output_type": "execute_result"
    }
   ],
   "source": [
    "# Create Foursquare restaurants DataFrame\n",
    "fq_df = pd.DataFrame(fq_rest_details)\n",
    "\n",
    "fq_df"
   ]
  },
  {
   "attachments": {},
   "cell_type": "markdown",
   "metadata": {},
   "source": [
    "# Yelp"
   ]
  },
  {
   "attachments": {},
   "cell_type": "markdown",
   "metadata": {},
   "source": [
    "Send a request to Yelp with a small radius (1000m) for all the bike stations in your city of choice. "
   ]
  },
  {
   "attachments": {},
   "cell_type": "markdown",
   "metadata": {},
   "source": [
    "Parse through the response to get the POI (such as restaurants, bars, etc) details you want (ratings, name, location, etc)"
   ]
  },
  {
   "cell_type": "code",
   "execution_count": 189,
   "metadata": {},
   "outputs": [],
   "source": [
    "API_key = 'u9nqlkJV8-tYun0YccBayBbLZ9CjblVJp0vAX9R12paPQOSv10Y0IDpDZVyfGoABFEo3CftG59CPjqESoxa3wJvgA9Ju8QyTav7LVuc9G-4QmWDcYWZmArNl3sJ7ZHYx'\n",
    "url = 'https://api.yelp.com/v3/businesses/search'\n",
    "radius = 1000  # Radius in meters\n",
    "limit = 10"
   ]
  },
  {
   "cell_type": "code",
   "execution_count": 190,
   "metadata": {},
   "outputs": [],
   "source": [
    "# Create a list to store restaurant details\n",
    "y_rest_details = []"
   ]
  },
  {
   "cell_type": "code",
   "execution_count": 188,
   "metadata": {},
   "outputs": [
    {
     "data": {
      "text/plain": [
       "{'error': {'code': 'ACCESS_LIMIT_REACHED',\n",
       "  'description': \"You've reached the access limit for this client. See instructions for requesting a higher access limit at https://docs.developer.yelp.com/docs/fusion-rate-limiting\"}}"
      ]
     },
     "execution_count": 188,
     "metadata": {},
     "output_type": "execute_result"
    }
   ],
   "source": [
    "# Iterate over each row in the dataframe\n",
    "for index, row in bike_df.iterrows():\n",
    "    latitude = row['Latitude']\n",
    "    longitude = row['Longitude']\n",
    "\n",
    "    params = {\n",
    "        'latitude': latitude,\n",
    "        'longitude': longitude,\n",
    "        'radius': radius,\n",
    "        'categories': 'restaurants',\n",
    "        'limit': limit\n",
    "    }\n",
    "    headers = {\n",
    "        'Authorization': f'Bearer {API_key}'\n",
    "    }\n",
    "\n",
    "    # Send API request to Yelp\n",
    "    response = requests.get(url, params=params, headers=headers)\n",
    "    y_rest_data = response.json()\n",
    "\n",
    "     # Extract the list of restaurants\n",
    "    restaurants = response_json['businesses']\n",
    "\n",
    "    # Iterate over each restaurant and extract the details\n",
    "    for restaurant in restaurants:\n",
    "        name = restaurant['name']\n",
    "        location = restaurant['location']['address1']\n",
    "        latitude = restaurant['coordinates']['latitude']\n",
    "        longitude = restaurant['coordinates']['longitude']\n",
    "        rating = restaurant['rating']\n",
    "\n",
    "        # Append the restaurant details as a dictionary to the list\n",
    "        rest_details.append({\n",
    "            'Name': name,\n",
    "            'Location': location,\n",
    "            'Latitude': latitude,\n",
    "            'Longitude': longitude,\n",
    "            'Rating': rating\n",
    "        })"
   ]
  },
  {
   "attachments": {},
   "cell_type": "markdown",
   "metadata": {},
   "source": [
    "Put your parsed results into a DataFrame"
   ]
  },
  {
   "cell_type": "code",
   "execution_count": 194,
   "metadata": {},
   "outputs": [
    {
     "data": {
      "text/html": [
       "<div>\n",
       "<style scoped>\n",
       "    .dataframe tbody tr th:only-of-type {\n",
       "        vertical-align: middle;\n",
       "    }\n",
       "\n",
       "    .dataframe tbody tr th {\n",
       "        vertical-align: top;\n",
       "    }\n",
       "\n",
       "    .dataframe thead th {\n",
       "        text-align: right;\n",
       "    }\n",
       "</style>\n",
       "<table border=\"1\" class=\"dataframe\">\n",
       "  <thead>\n",
       "    <tr style=\"text-align: right;\">\n",
       "      <th></th>\n",
       "    </tr>\n",
       "  </thead>\n",
       "  <tbody>\n",
       "  </tbody>\n",
       "</table>\n",
       "</div>"
      ],
      "text/plain": [
       "Empty DataFrame\n",
       "Columns: []\n",
       "Index: []"
      ]
     },
     "execution_count": 194,
     "metadata": {},
     "output_type": "execute_result"
    }
   ],
   "source": [
    "# Create Yelp restaurants DataFrame\n",
    "yelp_df = pd.DataFrame(y_rest_details)\n",
    "\n",
    "yelp_df"
   ]
  },
  {
   "attachments": {},
   "cell_type": "markdown",
   "metadata": {},
   "source": [
    "# Comparing Results"
   ]
  },
  {
   "attachments": {},
   "cell_type": "markdown",
   "metadata": {},
   "source": [
    "Which API provided you with more complete data? Provide an explanation. "
   ]
  },
  {
   "attachments": {},
   "cell_type": "markdown",
   "metadata": {},
   "source": []
  },
  {
   "attachments": {},
   "cell_type": "markdown",
   "metadata": {},
   "source": [
    "Get the top 10 restaurants according to their rating"
   ]
  },
  {
   "cell_type": "code",
   "execution_count": null,
   "metadata": {},
   "outputs": [],
   "source": []
  }
 ],
 "metadata": {
  "kernelspec": {
   "display_name": "the_one",
   "language": "python",
   "name": "the_one"
  },
  "language_info": {
   "codemirror_mode": {
    "name": "ipython",
    "version": 3
   },
   "file_extension": ".py",
   "mimetype": "text/x-python",
   "name": "python",
   "nbconvert_exporter": "python",
   "pygments_lexer": "ipython3",
   "version": "3.10.9"
  }
 },
 "nbformat": 4,
 "nbformat_minor": 4
}
