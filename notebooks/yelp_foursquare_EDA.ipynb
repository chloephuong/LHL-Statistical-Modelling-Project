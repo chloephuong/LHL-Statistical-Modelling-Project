{
 "cells": [
  {
   "cell_type": "code",
   "execution_count": 114,
   "metadata": {},
   "outputs": [],
   "source": [
    "import requests\n",
    "import pandas as pd"
   ]
  },
  {
   "attachments": {},
   "cell_type": "markdown",
   "metadata": {},
   "source": [
    "# CityBikes"
   ]
  },
  {
   "cell_type": "code",
   "execution_count": 115,
   "metadata": {},
   "outputs": [],
   "source": [
    "# API endpoint for Toronto city\n",
    "url = 'https://api.citybik.es/v2/networks/toronto'\n",
    "limit = 100\n",
    "\n",
    "params = {'limit': limit}\n",
    "\n",
    "# Send GET request to retrieve bike-sharing data for Toronto\n",
    "response = requests.get(url, params=params)\n",
    "\n",
    "# Extract the data from the response\n",
    "data = response.json()\n",
    "\n",
    "# Extract the list of stations\n",
    "stations = data['network']['stations']\n",
    "\n",
    "# Iterate over each station and access the details\n",
    "for station in stations:\n",
    "    station_id = station.get('id')\n",
    "    name = station.get('name')\n",
    "    latitude = station.get('latitude')\n",
    "    longitude = station.get('longitude')\n",
    "    num_of_bikes = station.get('free_bikes')\n",
    "\n",
    "# Create a list to store the station details\n",
    "station_details = []\n",
    "\n",
    "# Iterate over the stations and extract the desired information\n",
    "for station in stations:\n",
    "    station_id = station['id']\n",
    "    name = station['name']\n",
    "    latitude = station['latitude']\n",
    "    longitude = station['longitude']\n",
    "    num_of_bikes = station['free_bikes']\n",
    "\n",
    "    # Append the station details as a dictionary to the list\n",
    "    station_details.append({\n",
    "        'Station ID': station_id,\n",
    "        'Name': name,\n",
    "        'Latitude': latitude,\n",
    "        'Longitude': longitude,\n",
    "        'Number of Bikes': num_of_bikes\n",
    "    })"
   ]
  },
  {
   "cell_type": "code",
   "execution_count": 116,
   "metadata": {},
   "outputs": [
    {
     "data": {
      "text/html": [
       "<div>\n",
       "<style scoped>\n",
       "    .dataframe tbody tr th:only-of-type {\n",
       "        vertical-align: middle;\n",
       "    }\n",
       "\n",
       "    .dataframe tbody tr th {\n",
       "        vertical-align: top;\n",
       "    }\n",
       "\n",
       "    .dataframe thead th {\n",
       "        text-align: right;\n",
       "    }\n",
       "</style>\n",
       "<table border=\"1\" class=\"dataframe\">\n",
       "  <thead>\n",
       "    <tr style=\"text-align: right;\">\n",
       "      <th></th>\n",
       "      <th>Station ID</th>\n",
       "      <th>Name</th>\n",
       "      <th>Latitude</th>\n",
       "      <th>Longitude</th>\n",
       "      <th>Number of Bikes</th>\n",
       "    </tr>\n",
       "  </thead>\n",
       "  <tbody>\n",
       "    <tr>\n",
       "      <th>0</th>\n",
       "      <td>fb337bbed72e2be090071e199899b2be</td>\n",
       "      <td>Queen St E / Woodward Ave</td>\n",
       "      <td>43.665269</td>\n",
       "      <td>-79.319796</td>\n",
       "      <td>17</td>\n",
       "    </tr>\n",
       "    <tr>\n",
       "      <th>1</th>\n",
       "      <td>4ff88d5880e71aa40d34cfe5d09b0ca7</td>\n",
       "      <td>Primrose Ave / Davenport Rd</td>\n",
       "      <td>43.671420</td>\n",
       "      <td>-79.445947</td>\n",
       "      <td>3</td>\n",
       "    </tr>\n",
       "    <tr>\n",
       "      <th>2</th>\n",
       "      <td>a09c67c0b419654d907c9134b108e328</td>\n",
       "      <td>Queen St. E / Rhodes Ave.</td>\n",
       "      <td>43.666224</td>\n",
       "      <td>-79.317693</td>\n",
       "      <td>23</td>\n",
       "    </tr>\n",
       "    <tr>\n",
       "      <th>3</th>\n",
       "      <td>d6a9daee68070a8b106cfb598d81308c</td>\n",
       "      <td>Bond St / Queen St E</td>\n",
       "      <td>43.653236</td>\n",
       "      <td>-79.376716</td>\n",
       "      <td>3</td>\n",
       "    </tr>\n",
       "    <tr>\n",
       "      <th>4</th>\n",
       "      <td>8f8af40d9388c8a3962559e8681d3db7</td>\n",
       "      <td>Church St / Alexander St</td>\n",
       "      <td>43.663722</td>\n",
       "      <td>-79.380288</td>\n",
       "      <td>7</td>\n",
       "    </tr>\n",
       "    <tr>\n",
       "      <th>...</th>\n",
       "      <td>...</td>\n",
       "      <td>...</td>\n",
       "      <td>...</td>\n",
       "      <td>...</td>\n",
       "      <td>...</td>\n",
       "    </tr>\n",
       "    <tr>\n",
       "      <th>658</th>\n",
       "      <td>b1378d745af2e60fe542370cb6374226</td>\n",
       "      <td>Lynn William St / Pirandello St</td>\n",
       "      <td>43.639125</td>\n",
       "      <td>-79.414232</td>\n",
       "      <td>0</td>\n",
       "    </tr>\n",
       "    <tr>\n",
       "      <th>659</th>\n",
       "      <td>c845b03b2ffaa03ebba13b5c61da3af2</td>\n",
       "      <td>Bay St / Queens Quay W (Ferry Terminal)</td>\n",
       "      <td>43.640978</td>\n",
       "      <td>-79.376785</td>\n",
       "      <td>22</td>\n",
       "    </tr>\n",
       "    <tr>\n",
       "      <th>660</th>\n",
       "      <td>f8bbce635f366ade23994d02cb6fcc75</td>\n",
       "      <td>College St / Huron St</td>\n",
       "      <td>43.658148</td>\n",
       "      <td>-79.398167</td>\n",
       "      <td>8</td>\n",
       "    </tr>\n",
       "    <tr>\n",
       "      <th>661</th>\n",
       "      <td>5539f3700e4ce9e5701353a667924538</td>\n",
       "      <td>Ossington Ave / Bruce St</td>\n",
       "      <td>43.645702</td>\n",
       "      <td>-79.419332</td>\n",
       "      <td>12</td>\n",
       "    </tr>\n",
       "    <tr>\n",
       "      <th>662</th>\n",
       "      <td>be39936af5ab6b60d98a2d6756387909</td>\n",
       "      <td>Northern Dancer Blvd / Lake Shore Blvd E</td>\n",
       "      <td>43.663162</td>\n",
       "      <td>-79.309765</td>\n",
       "      <td>6</td>\n",
       "    </tr>\n",
       "  </tbody>\n",
       "</table>\n",
       "<p>663 rows × 5 columns</p>\n",
       "</div>"
      ],
      "text/plain": [
       "                           Station ID  \\\n",
       "0    fb337bbed72e2be090071e199899b2be   \n",
       "1    4ff88d5880e71aa40d34cfe5d09b0ca7   \n",
       "2    a09c67c0b419654d907c9134b108e328   \n",
       "3    d6a9daee68070a8b106cfb598d81308c   \n",
       "4    8f8af40d9388c8a3962559e8681d3db7   \n",
       "..                                ...   \n",
       "658  b1378d745af2e60fe542370cb6374226   \n",
       "659  c845b03b2ffaa03ebba13b5c61da3af2   \n",
       "660  f8bbce635f366ade23994d02cb6fcc75   \n",
       "661  5539f3700e4ce9e5701353a667924538   \n",
       "662  be39936af5ab6b60d98a2d6756387909   \n",
       "\n",
       "                                         Name   Latitude  Longitude  \\\n",
       "0                   Queen St E / Woodward Ave  43.665269 -79.319796   \n",
       "1                 Primrose Ave / Davenport Rd  43.671420 -79.445947   \n",
       "2                   Queen St. E / Rhodes Ave.  43.666224 -79.317693   \n",
       "3                        Bond St / Queen St E  43.653236 -79.376716   \n",
       "4                    Church St / Alexander St  43.663722 -79.380288   \n",
       "..                                        ...        ...        ...   \n",
       "658          Lynn William St / Pirandello St   43.639125 -79.414232   \n",
       "659   Bay St / Queens Quay W (Ferry Terminal)  43.640978 -79.376785   \n",
       "660                     College St / Huron St  43.658148 -79.398167   \n",
       "661                  Ossington Ave / Bruce St  43.645702 -79.419332   \n",
       "662  Northern Dancer Blvd / Lake Shore Blvd E  43.663162 -79.309765   \n",
       "\n",
       "     Number of Bikes  \n",
       "0                 17  \n",
       "1                  3  \n",
       "2                 23  \n",
       "3                  3  \n",
       "4                  7  \n",
       "..               ...  \n",
       "658                0  \n",
       "659               22  \n",
       "660                8  \n",
       "661               12  \n",
       "662                6  \n",
       "\n",
       "[663 rows x 5 columns]"
      ]
     },
     "execution_count": 116,
     "metadata": {},
     "output_type": "execute_result"
    }
   ],
   "source": [
    "# Create the bike stations DataFrame\n",
    "bike_df = pd.DataFrame(station_details)\n",
    "bike_df"
   ]
  },
  {
   "attachments": {},
   "cell_type": "markdown",
   "metadata": {},
   "source": [
    "# Foursquare"
   ]
  },
  {
   "attachments": {},
   "cell_type": "markdown",
   "metadata": {},
   "source": [
    "Send a request to Foursquare with a small radius (1000m) for all the bike stations in your city of choice. "
   ]
  },
  {
   "attachments": {},
   "cell_type": "markdown",
   "metadata": {},
   "source": [
    "Parse through the response to get the POI (such as restaurants, bars, etc) details you want (ratings, name, location, etc)"
   ]
  },
  {
   "cell_type": "code",
   "execution_count": 147,
   "metadata": {},
   "outputs": [],
   "source": [
    "API_key = 'fsq3dQYQp2ka71CYVbI6ehUtmigysRY/oygrq7j7KFRHyI8='\n",
    "url = 'https://api.foursquare.com/v3/places/nearby'\n",
    "radius = 1000  # Radius in meters\n",
    "limit = 10"
   ]
  },
  {
   "cell_type": "code",
   "execution_count": 148,
   "metadata": {},
   "outputs": [],
   "source": [
    "# Create a list to store the restaurant details\n",
    "fq_rest_details = []"
   ]
  },
  {
   "cell_type": "code",
   "execution_count": 149,
   "metadata": {},
   "outputs": [],
   "source": [
    "# Iterate over each row in the dataframe\n",
    "for index, row in bike_df.iterrows():\n",
    "    latitude = row['Latitude']\n",
    "    longitude = row['Longitude']\n",
    "\n",
    "    params = {\n",
    "        'll': f'{latitude},{longitude}',\n",
    "        'radius': radius,\n",
    "        'query': 'restaurant',\n",
    "        'limit': limit\n",
    "    }\n",
    "    headers = {\"Authorization\": API_key}\n",
    "\n",
    "    response = requests.get(url, params=params, headers=headers)\n",
    "\n",
    "    fq_rest_data = response.json()\n",
    "\n",
    "    # Extract the list of restaurants\n",
    "    restaurants = fq_rest_data['results']\n",
    "\n",
    "    # Iterate over each restaurant and extract the details\n",
    "    for restaurant in restaurants:\n",
    "        name = restaurant['name']\n",
    "        location = restaurant['location']['formatted_address']\n",
    "        latitude = restaurant['geocodes']['main']['latitude']\n",
    "        longitude = restaurant['geocodes']['main']['longitude']\n",
    "\n",
    "        # Append the restaurant details as a dictionary to the list\n",
    "        fq_rest_details.append({\n",
    "            'Retaurant name': name,\n",
    "            'Name': name,\n",
    "            'Latitude': latitude,\n",
    "            'Longitude': longitude\n",
    "        })\n"
   ]
  },
  {
   "attachments": {},
   "cell_type": "markdown",
   "metadata": {},
   "source": [
    "Put your parsed results into a DataFrame"
   ]
  },
  {
   "cell_type": "code",
   "execution_count": 150,
   "metadata": {},
   "outputs": [
    {
     "data": {
      "text/html": [
       "<div>\n",
       "<style scoped>\n",
       "    .dataframe tbody tr th:only-of-type {\n",
       "        vertical-align: middle;\n",
       "    }\n",
       "\n",
       "    .dataframe tbody tr th {\n",
       "        vertical-align: top;\n",
       "    }\n",
       "\n",
       "    .dataframe thead th {\n",
       "        text-align: right;\n",
       "    }\n",
       "</style>\n",
       "<table border=\"1\" class=\"dataframe\">\n",
       "  <thead>\n",
       "    <tr style=\"text-align: right;\">\n",
       "      <th></th>\n",
       "      <th>Retaurant name</th>\n",
       "      <th>Name</th>\n",
       "      <th>Latitude</th>\n",
       "      <th>Longitude</th>\n",
       "    </tr>\n",
       "  </thead>\n",
       "  <tbody>\n",
       "    <tr>\n",
       "      <th>0</th>\n",
       "      <td>Gio Rana's Really Really Nice Restaurant</td>\n",
       "      <td>Gio Rana's Really Really Nice Restaurant</td>\n",
       "      <td>43.663345</td>\n",
       "      <td>-79.330418</td>\n",
       "    </tr>\n",
       "    <tr>\n",
       "      <th>1</th>\n",
       "      <td>Occasions Restaurant</td>\n",
       "      <td>Occasions Restaurant</td>\n",
       "      <td>43.673316</td>\n",
       "      <td>-79.318244</td>\n",
       "    </tr>\n",
       "    <tr>\n",
       "      <th>2</th>\n",
       "      <td>Regency Restaurant Inc</td>\n",
       "      <td>Regency Restaurant Inc</td>\n",
       "      <td>43.672004</td>\n",
       "      <td>-79.322433</td>\n",
       "    </tr>\n",
       "    <tr>\n",
       "      <th>3</th>\n",
       "      <td>Famous Indian Cuisine</td>\n",
       "      <td>Famous Indian Cuisine</td>\n",
       "      <td>43.672148</td>\n",
       "      <td>-79.321988</td>\n",
       "    </tr>\n",
       "    <tr>\n",
       "      <th>4</th>\n",
       "      <td>Restaurant Tiflisi</td>\n",
       "      <td>Restaurant Tiflisi</td>\n",
       "      <td>43.669848</td>\n",
       "      <td>-79.301657</td>\n",
       "    </tr>\n",
       "    <tr>\n",
       "      <th>...</th>\n",
       "      <td>...</td>\n",
       "      <td>...</td>\n",
       "      <td>...</td>\n",
       "      <td>...</td>\n",
       "    </tr>\n",
       "    <tr>\n",
       "      <th>5719</th>\n",
       "      <td>Nevada Restaurant</td>\n",
       "      <td>Nevada Restaurant</td>\n",
       "      <td>43.669567</td>\n",
       "      <td>-79.301659</td>\n",
       "    </tr>\n",
       "    <tr>\n",
       "      <th>5720</th>\n",
       "      <td>Fuse</td>\n",
       "      <td>Fuse</td>\n",
       "      <td>43.655932</td>\n",
       "      <td>-79.363890</td>\n",
       "    </tr>\n",
       "    <tr>\n",
       "      <th>5721</th>\n",
       "      <td>Honey Bee Restaurant</td>\n",
       "      <td>Honey Bee Restaurant</td>\n",
       "      <td>43.670525</td>\n",
       "      <td>-79.298490</td>\n",
       "    </tr>\n",
       "    <tr>\n",
       "      <th>5722</th>\n",
       "      <td>Bikkuri Japanese Restaurant</td>\n",
       "      <td>Bikkuri Japanese Restaurant</td>\n",
       "      <td>43.670533</td>\n",
       "      <td>-79.296807</td>\n",
       "    </tr>\n",
       "    <tr>\n",
       "      <th>5723</th>\n",
       "      <td>Regency Restaurant Inc</td>\n",
       "      <td>Regency Restaurant Inc</td>\n",
       "      <td>43.672004</td>\n",
       "      <td>-79.322433</td>\n",
       "    </tr>\n",
       "  </tbody>\n",
       "</table>\n",
       "<p>5724 rows × 4 columns</p>\n",
       "</div>"
      ],
      "text/plain": [
       "                                Retaurant name  \\\n",
       "0     Gio Rana's Really Really Nice Restaurant   \n",
       "1                         Occasions Restaurant   \n",
       "2                       Regency Restaurant Inc   \n",
       "3                        Famous Indian Cuisine   \n",
       "4                           Restaurant Tiflisi   \n",
       "...                                        ...   \n",
       "5719                         Nevada Restaurant   \n",
       "5720                                      Fuse   \n",
       "5721                      Honey Bee Restaurant   \n",
       "5722               Bikkuri Japanese Restaurant   \n",
       "5723                    Regency Restaurant Inc   \n",
       "\n",
       "                                          Name   Latitude  Longitude  \n",
       "0     Gio Rana's Really Really Nice Restaurant  43.663345 -79.330418  \n",
       "1                         Occasions Restaurant  43.673316 -79.318244  \n",
       "2                       Regency Restaurant Inc  43.672004 -79.322433  \n",
       "3                        Famous Indian Cuisine  43.672148 -79.321988  \n",
       "4                           Restaurant Tiflisi  43.669848 -79.301657  \n",
       "...                                        ...        ...        ...  \n",
       "5719                         Nevada Restaurant  43.669567 -79.301659  \n",
       "5720                                      Fuse  43.655932 -79.363890  \n",
       "5721                      Honey Bee Restaurant  43.670525 -79.298490  \n",
       "5722               Bikkuri Japanese Restaurant  43.670533 -79.296807  \n",
       "5723                    Regency Restaurant Inc  43.672004 -79.322433  \n",
       "\n",
       "[5724 rows x 4 columns]"
      ]
     },
     "execution_count": 150,
     "metadata": {},
     "output_type": "execute_result"
    }
   ],
   "source": [
    "# Create Foursquare restaurants DataFrame\n",
    "fq_df = pd.DataFrame(fq_rest_details)\n",
    "\n",
    "fq_df"
   ]
  },
  {
   "attachments": {},
   "cell_type": "markdown",
   "metadata": {},
   "source": [
    "# Yelp"
   ]
  },
  {
   "attachments": {},
   "cell_type": "markdown",
   "metadata": {},
   "source": [
    "Send a request to Yelp with a small radius (1000m) for all the bike stations in your city of choice. "
   ]
  },
  {
   "attachments": {},
   "cell_type": "markdown",
   "metadata": {},
   "source": [
    "Parse through the response to get the POI (such as restaurants, bars, etc) details you want (ratings, name, location, etc)"
   ]
  },
  {
   "cell_type": "code",
   "execution_count": 154,
   "metadata": {},
   "outputs": [],
   "source": [
    "API_key = 'u9nqlkJV8-tYun0YccBayBbLZ9CjblVJp0vAX9R12paPQOSv10Y0IDpDZVyfGoABFEo3CftG59CPjqESoxa3wJvgA9Ju8QyTav7LVuc9G-4QmWDcYWZmArNl3sJ7ZHYx'\n",
    "url = 'https://api.yelp.com/v3/businesses/search'\n",
    "radius = 1000  # Radius in meters\n",
    "limit = 10"
   ]
  },
  {
   "cell_type": "code",
   "execution_count": 155,
   "metadata": {},
   "outputs": [],
   "source": [
    "# Create a list to store restaurant details\n",
    "y_rest_details = []"
   ]
  },
  {
   "cell_type": "code",
   "execution_count": 156,
   "metadata": {},
   "outputs": [
    {
     "data": {
      "text/plain": [
       "{'error': {'code': 'ACCESS_LIMIT_REACHED',\n",
       "  'description': \"You've reached the access limit for this client. See instructions for requesting a higher access limit at https://docs.developer.yelp.com/docs/fusion-rate-limiting\"}}"
      ]
     },
     "execution_count": 156,
     "metadata": {},
     "output_type": "execute_result"
    }
   ],
   "source": [
    "# Iterate over each row in the dataframe\n",
    "for index, row in bike_df.iterrows():\n",
    "    latitude = row['Latitude']\n",
    "    longitude = row['Longitude']\n",
    "\n",
    "    params = {\n",
    "        'latitude': latitude,\n",
    "        'longitude': longitude,\n",
    "        'radius': radius,\n",
    "        'categories': 'restaurants',\n",
    "        'limit': limit\n",
    "    }\n",
    "    headers = {\n",
    "        'Authorization': f'Bearer {API_key}'\n",
    "    }\n",
    "\n",
    "    # Send API request to Yelp\n",
    "    response = requests.get(url, params=params, headers=headers)\n",
    "    y_rest_data = response.json()\n",
    "\n",
    "y_rest_data\n"
   ]
  },
  {
   "cell_type": "code",
   "execution_count": null,
   "metadata": {},
   "outputs": [],
   "source": []
  },
  {
   "attachments": {},
   "cell_type": "markdown",
   "metadata": {},
   "source": [
    "Put your parsed results into a DataFrame"
   ]
  },
  {
   "cell_type": "code",
   "execution_count": null,
   "metadata": {},
   "outputs": [],
   "source": [
    "# Create Yelp restaurants DataFrame\n",
    "yelp_df = pd.DataFrame(y_rest_details)\n",
    "\n",
    "yelp_df"
   ]
  },
  {
   "attachments": {},
   "cell_type": "markdown",
   "metadata": {},
   "source": [
    "# Comparing Results"
   ]
  },
  {
   "attachments": {},
   "cell_type": "markdown",
   "metadata": {},
   "source": [
    "Which API provided you with more complete data? Provide an explanation. "
   ]
  },
  {
   "attachments": {},
   "cell_type": "markdown",
   "metadata": {},
   "source": []
  },
  {
   "attachments": {},
   "cell_type": "markdown",
   "metadata": {},
   "source": [
    "Get the top 10 restaurants according to their rating"
   ]
  },
  {
   "cell_type": "code",
   "execution_count": null,
   "metadata": {},
   "outputs": [],
   "source": []
  }
 ],
 "metadata": {
  "kernelspec": {
   "display_name": "the_one",
   "language": "python",
   "name": "the_one"
  },
  "language_info": {
   "codemirror_mode": {
    "name": "ipython",
    "version": 3
   },
   "file_extension": ".py",
   "mimetype": "text/x-python",
   "name": "python",
   "nbconvert_exporter": "python",
   "pygments_lexer": "ipython3",
   "version": "3.10.9"
  }
 },
 "nbformat": 4,
 "nbformat_minor": 4
}
