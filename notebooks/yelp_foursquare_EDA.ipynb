{
 "cells": [
  {
   "cell_type": "code",
   "execution_count": 58,
   "metadata": {},
   "outputs": [],
   "source": [
    "import requests\n",
    "import pandas as pd"
   ]
  },
  {
   "attachments": {},
   "cell_type": "markdown",
   "metadata": {},
   "source": [
    "# Foursquare"
   ]
  },
  {
   "attachments": {},
   "cell_type": "markdown",
   "metadata": {},
   "source": [
    "Send a request to Foursquare with a small radius (1000m) for all the bike stations in your city of choice. "
   ]
  },
  {
   "cell_type": "code",
   "execution_count": 46,
   "metadata": {},
   "outputs": [],
   "source": [
    "url = 'https://api.foursquare.com/v3/places/nearby'\n",
    "API_key = 'fsq3dQYQp2ka71CYVbI6ehUtmigysRY/oygrq7j7KFRHyI8='\n",
    "\n",
    "#Set location parameters\n",
    "latitude = '43.651070'\n",
    "longitude = '-79.347015'"
   ]
  },
  {
   "cell_type": "code",
   "execution_count": 47,
   "metadata": {},
   "outputs": [],
   "source": [
    "params = {\n",
    "    'll': f'{latitude},{longitude}',\n",
    "    'radius': 1000, #in meter\n",
    "    'query': 'restaurant'\n",
    "}\n",
    "headers = {\"Authorization\": API_key\n",
    "}"
   ]
  },
  {
   "cell_type": "code",
   "execution_count": 48,
   "metadata": {},
   "outputs": [
    {
     "name": "stdout",
     "output_type": "stream",
     "text": [
      "200\n"
     ]
    }
   ],
   "source": [
    "#Send API request and parse JSON response\n",
    "response = requests.get(url, params=params, headers=headers)\n",
    "\n",
    "print(response.status_code)"
   ]
  },
  {
   "cell_type": "code",
   "execution_count": 57,
   "metadata": {},
   "outputs": [],
   "source": [
    "data = response.json()"
   ]
  },
  {
   "attachments": {},
   "cell_type": "markdown",
   "metadata": {},
   "source": [
    "Parse through the response to get the POI (such as restaurants, bars, etc) details you want (ratings, name, location, etc)"
   ]
  },
  {
   "cell_type": "code",
   "execution_count": 63,
   "metadata": {},
   "outputs": [],
   "source": [
    "# Extract the list of restaurants\n",
    "restaurants = data['results']"
   ]
  },
  {
   "cell_type": "code",
   "execution_count": 68,
   "metadata": {},
   "outputs": [
    {
     "name": "stdout",
     "output_type": "stream",
     "text": [
      "Name: est Restaurant\n",
      "Location: 729 Queen St E, Toronto ON M4M 1H1\n",
      "latitude: 43.658791\n",
      "longitude: -79.349195\n",
      "\n",
      "Name: Restaurant 20 Victoria\n",
      "Location: 20 Victoria St, Toronto ON M8V 1M6\n",
      "latitude: 43.650025\n",
      "longitude: -79.377257\n",
      "\n",
      "Name: Lan Restaurant\n",
      "Location: 755 Queen St E, Toronto ON M4M 1H3\n",
      "latitude: 43.6591\n",
      "longitude: -79.348029\n",
      "\n",
      "Name: Gio Rana's Really Really Nice Restaurant\n",
      "Location: 1220 Queen St E, Toronto ON M4M 1L7\n",
      "latitude: 43.663345\n",
      "longitude: -79.330418\n",
      "\n",
      "Name: P.J. O'Brien Irish Pub and Restuarant\n",
      "Location: 39 Colborne St (at Leader Ln.), Toronto ON M5E 1E3\n",
      "latitude: 43.648892\n",
      "longitude: -79.375067\n",
      "\n",
      "Name: The Real Jerk Restaurant\n",
      "Location: 842 Gerrard St E (Carlaw Avenue), Toronto ON M4M 1Y7\n",
      "latitude: 43.667754\n",
      "longitude: -79.343227\n",
      "\n",
      "Name: Hot House Cafe\n",
      "Location: 35 Church St (at Front St E), Toronto ON M5E 1T3\n",
      "latitude: 43.648927\n",
      "longitude: -79.373811\n",
      "\n"
     ]
    }
   ],
   "source": [
    "# Iterate over each restaurant and extract the details\n",
    "for restaurant in restaurants:\n",
    "    name = restaurant['name']\n",
    "    location = restaurant['location']['formatted_address']\n",
    "    latitude = restaurant['geocodes']['main']['latitude']\n",
    "    longitude = restaurant['geocodes']['main']['longitude']\n",
    "\n",
    "    # Print the details\n",
    "    print(f\"Name: {name}\")\n",
    "    print(f\"Location: {location}\")\n",
    "    print(f'latitude: {latitude}')\n",
    "    print(f'longitude: {longitude}')\n",
    "    print()"
   ]
  },
  {
   "attachments": {},
   "cell_type": "markdown",
   "metadata": {},
   "source": [
    "Put your parsed results into a DataFrame"
   ]
  },
  {
   "cell_type": "code",
   "execution_count": 70,
   "metadata": {},
   "outputs": [],
   "source": [
    "# Create a list to store the restaurant details\n",
    "rest_details = []"
   ]
  },
  {
   "cell_type": "code",
   "execution_count": 71,
   "metadata": {},
   "outputs": [],
   "source": [
    "# Iterate over each restaurant and extract the details\n",
    "for restaurant in restaurants:\n",
    "    name = restaurant['name']\n",
    "    location = restaurant['location']['formatted_address']\n",
    "    latitude = restaurant['geocodes']['main']['latitude']\n",
    "    longitude = restaurant['geocodes']['main']['longitude']\n",
    "\n",
    "    # Append the restaurant details as a dictionary to the list\n",
    "    rest_details.append({\n",
    "        'Retaurant name': name,\n",
    "        'Name': name,\n",
    "        'Latitude': latitude,\n",
    "        'Longitude': longitude\n",
    "    })"
   ]
  },
  {
   "cell_type": "code",
   "execution_count": 72,
   "metadata": {},
   "outputs": [
    {
     "data": {
      "text/html": [
       "<div>\n",
       "<style scoped>\n",
       "    .dataframe tbody tr th:only-of-type {\n",
       "        vertical-align: middle;\n",
       "    }\n",
       "\n",
       "    .dataframe tbody tr th {\n",
       "        vertical-align: top;\n",
       "    }\n",
       "\n",
       "    .dataframe thead th {\n",
       "        text-align: right;\n",
       "    }\n",
       "</style>\n",
       "<table border=\"1\" class=\"dataframe\">\n",
       "  <thead>\n",
       "    <tr style=\"text-align: right;\">\n",
       "      <th></th>\n",
       "      <th>Retaurant name</th>\n",
       "      <th>Name</th>\n",
       "      <th>Latitude</th>\n",
       "      <th>Longitude</th>\n",
       "    </tr>\n",
       "  </thead>\n",
       "  <tbody>\n",
       "    <tr>\n",
       "      <th>0</th>\n",
       "      <td>est Restaurant</td>\n",
       "      <td>est Restaurant</td>\n",
       "      <td>43.658791</td>\n",
       "      <td>-79.349195</td>\n",
       "    </tr>\n",
       "    <tr>\n",
       "      <th>1</th>\n",
       "      <td>Restaurant 20 Victoria</td>\n",
       "      <td>Restaurant 20 Victoria</td>\n",
       "      <td>43.650025</td>\n",
       "      <td>-79.377257</td>\n",
       "    </tr>\n",
       "    <tr>\n",
       "      <th>2</th>\n",
       "      <td>Lan Restaurant</td>\n",
       "      <td>Lan Restaurant</td>\n",
       "      <td>43.659100</td>\n",
       "      <td>-79.348029</td>\n",
       "    </tr>\n",
       "    <tr>\n",
       "      <th>3</th>\n",
       "      <td>Gio Rana's Really Really Nice Restaurant</td>\n",
       "      <td>Gio Rana's Really Really Nice Restaurant</td>\n",
       "      <td>43.663345</td>\n",
       "      <td>-79.330418</td>\n",
       "    </tr>\n",
       "    <tr>\n",
       "      <th>4</th>\n",
       "      <td>P.J. O'Brien Irish Pub and Restuarant</td>\n",
       "      <td>P.J. O'Brien Irish Pub and Restuarant</td>\n",
       "      <td>43.648892</td>\n",
       "      <td>-79.375067</td>\n",
       "    </tr>\n",
       "    <tr>\n",
       "      <th>5</th>\n",
       "      <td>The Real Jerk Restaurant</td>\n",
       "      <td>The Real Jerk Restaurant</td>\n",
       "      <td>43.667754</td>\n",
       "      <td>-79.343227</td>\n",
       "    </tr>\n",
       "    <tr>\n",
       "      <th>6</th>\n",
       "      <td>Hot House Cafe</td>\n",
       "      <td>Hot House Cafe</td>\n",
       "      <td>43.648927</td>\n",
       "      <td>-79.373811</td>\n",
       "    </tr>\n",
       "  </tbody>\n",
       "</table>\n",
       "</div>"
      ],
      "text/plain": [
       "                             Retaurant name  \\\n",
       "0                            est Restaurant   \n",
       "1                    Restaurant 20 Victoria   \n",
       "2                            Lan Restaurant   \n",
       "3  Gio Rana's Really Really Nice Restaurant   \n",
       "4     P.J. O'Brien Irish Pub and Restuarant   \n",
       "5                  The Real Jerk Restaurant   \n",
       "6                            Hot House Cafe   \n",
       "\n",
       "                                       Name   Latitude  Longitude  \n",
       "0                            est Restaurant  43.658791 -79.349195  \n",
       "1                    Restaurant 20 Victoria  43.650025 -79.377257  \n",
       "2                            Lan Restaurant  43.659100 -79.348029  \n",
       "3  Gio Rana's Really Really Nice Restaurant  43.663345 -79.330418  \n",
       "4     P.J. O'Brien Irish Pub and Restuarant  43.648892 -79.375067  \n",
       "5                  The Real Jerk Restaurant  43.667754 -79.343227  \n",
       "6                            Hot House Cafe  43.648927 -79.373811  "
      ]
     },
     "execution_count": 72,
     "metadata": {},
     "output_type": "execute_result"
    }
   ],
   "source": [
    "# Create the bike stations DataFrame\n",
    "fq_df = pd.DataFrame(rest_details)\n",
    "fq_df"
   ]
  },
  {
   "attachments": {},
   "cell_type": "markdown",
   "metadata": {},
   "source": [
    "# Yelp"
   ]
  },
  {
   "attachments": {},
   "cell_type": "markdown",
   "metadata": {},
   "source": [
    "Send a request to Yelp with a small radius (1000m) for all the bike stations in your city of choice. "
   ]
  },
  {
   "cell_type": "code",
   "execution_count": null,
   "metadata": {},
   "outputs": [],
   "source": []
  },
  {
   "attachments": {},
   "cell_type": "markdown",
   "metadata": {},
   "source": [
    "Parse through the response to get the POI (such as restaurants, bars, etc) details you want (ratings, name, location, etc)"
   ]
  },
  {
   "cell_type": "code",
   "execution_count": null,
   "metadata": {},
   "outputs": [],
   "source": []
  },
  {
   "attachments": {},
   "cell_type": "markdown",
   "metadata": {},
   "source": [
    "Put your parsed results into a DataFrame"
   ]
  },
  {
   "attachments": {},
   "cell_type": "markdown",
   "metadata": {},
   "source": []
  },
  {
   "attachments": {},
   "cell_type": "markdown",
   "metadata": {},
   "source": [
    "# Comparing Results"
   ]
  },
  {
   "attachments": {},
   "cell_type": "markdown",
   "metadata": {},
   "source": [
    "Which API provided you with more complete data? Provide an explanation. "
   ]
  },
  {
   "attachments": {},
   "cell_type": "markdown",
   "metadata": {},
   "source": []
  },
  {
   "attachments": {},
   "cell_type": "markdown",
   "metadata": {},
   "source": [
    "Get the top 10 restaurants according to their rating"
   ]
  },
  {
   "cell_type": "code",
   "execution_count": null,
   "metadata": {},
   "outputs": [],
   "source": []
  }
 ],
 "metadata": {
  "kernelspec": {
   "display_name": "the_one",
   "language": "python",
   "name": "the_one"
  },
  "language_info": {
   "codemirror_mode": {
    "name": "ipython",
    "version": 3
   },
   "file_extension": ".py",
   "mimetype": "text/x-python",
   "name": "python",
   "nbconvert_exporter": "python",
   "pygments_lexer": "ipython3",
   "version": "3.10.9"
  }
 },
 "nbformat": 4,
 "nbformat_minor": 4
}
