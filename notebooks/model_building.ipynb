{
 "cells": [
  {
   "attachments": {},
   "cell_type": "markdown",
   "metadata": {},
   "source": [
    "Build a regression model."
   ]
  },
  {
   "cell_type": "code",
   "execution_count": 1,
   "metadata": {},
   "outputs": [],
   "source": [
    "import statsmodels.api as sm\n",
    "import pandas as pd"
   ]
  },
  {
   "cell_type": "code",
   "execution_count": 2,
   "metadata": {},
   "outputs": [],
   "source": [
    "joined_bike_df = pd.read_json('joined_bike_df')"
   ]
  },
  {
   "cell_type": "code",
   "execution_count": 10,
   "metadata": {},
   "outputs": [],
   "source": [
    "# Dependent variable\n",
    "y = joined_bike_df['Number of Bikes']\n",
    "\n",
    "# Independent variables\n",
    "X = joined_bike_df[['Restaurant Count', 'Average Rating']]"
   ]
  },
  {
   "cell_type": "code",
   "execution_count": 11,
   "metadata": {},
   "outputs": [],
   "source": [
    "#Add a constant to the predictor variable\n",
    "X = sm.add_constant(X)"
   ]
  },
  {
   "cell_type": "code",
   "execution_count": 12,
   "metadata": {},
   "outputs": [],
   "source": [
    "#Fit the regression model\n",
    "\n",
    "model = sm.OLS(y, X)\n",
    "results = model.fit()"
   ]
  },
  {
   "attachments": {},
   "cell_type": "markdown",
   "metadata": {},
   "source": [
    "Provide model output and an interpretation of the results. "
   ]
  },
  {
   "cell_type": "code",
   "execution_count": 14,
   "metadata": {},
   "outputs": [
    {
     "name": "stdout",
     "output_type": "stream",
     "text": [
      "                            OLS Regression Results                            \n",
      "==============================================================================\n",
      "Dep. Variable:        Number of Bikes   R-squared:                       0.044\n",
      "Model:                            OLS   Adj. R-squared:                  0.025\n",
      "Method:                 Least Squares   F-statistic:                     2.269\n",
      "Date:                Sun, 04 Jun 2023   Prob (F-statistic):              0.109\n",
      "Time:                        22:29:39   Log-Likelihood:                -322.70\n",
      "No. Observations:                 101   AIC:                             651.4\n",
      "Df Residuals:                      98   BIC:                             659.2\n",
      "Df Model:                           2                                         \n",
      "Covariance Type:            nonrobust                                         \n",
      "====================================================================================\n",
      "                       coef    std err          t      P>|t|      [0.025      0.975]\n",
      "------------------------------------------------------------------------------------\n",
      "const               34.1142     13.382      2.549      0.012       7.559      60.670\n",
      "Restaurant Count    -1.4456      1.084     -1.334      0.185      -3.596       0.705\n",
      "Average Rating      -2.8927      3.623     -0.798      0.427     -10.082       4.297\n",
      "==============================================================================\n",
      "Omnibus:                        9.686   Durbin-Watson:                   1.391\n",
      "Prob(Omnibus):                  0.008   Jarque-Bera (JB):                9.995\n",
      "Skew:                           0.765   Prob(JB):                      0.00675\n",
      "Kurtosis:                       3.182   Cond. No.                         246.\n",
      "==============================================================================\n",
      "\n",
      "Notes:\n",
      "[1] Standard Errors assume that the covariance matrix of the errors is correctly specified.\n"
     ]
    }
   ],
   "source": [
    "print(results.summary())"
   ]
  },
  {
   "attachments": {},
   "cell_type": "markdown",
   "metadata": {},
   "source": [
    "# Output explanation"
   ]
  },
  {
   "attachments": {},
   "cell_type": "markdown",
   "metadata": {},
   "source": [
    "The regression results indicate the relationship between the number of bikes and the independent variables (Restaurant Count and Average Rating). \n",
    "\n",
    "- R-squared: The R-squared value of 0.044 suggests that approximately 4.4% of the variation in the number of bikes can be explained by the number of restaurants and their average rating included in the model.\n",
    "\n",
    "- Adj. R-squared: The adjusted R-squared value of 0.025. It suggests that the independent variables explain about 2.5% of the variation in the number of bikes.\n",
    "\n",
    "- F-statistic: The F-statistic of 2.269 tests the overall significance of the model. The associated probability is 0.109, which is higher than the typical significance level of 0.05. This indicates that the model as a whole is not statistically significant.\n",
    "\n",
    "- The coefficient for the Restaurant Count variable is -1.4456. It suggests that, on average, for each additional restaurant in a location, the number of bikes decreases by 1.446.\n",
    "\n",
    "- The coefficient for the Average Rating variable is -2.8927. It suggests that, on average, for each unit decrease in the average rating of restaurants, the number of bikes decreases by 2.893.\n",
    "\n",
    "- P-values: the P-values for both the Restaurant Count and Average Rating variables are higher than the typical significance level of 0.05. This means that the coefficients are not statistically significant, and we fail to reject the null hypothesis that there is no relationship between the independent variables and the number of bikes.\n",
    "\n",
    "In summary, the regression model with the given independent variables (Restaurant Count and Average Rating) does not show strong statistical significance in explaining the variation in the number of bikes. The coefficients are not statistically significant, and the overall model is not significant based on the F-statistic."
   ]
  },
  {
   "attachments": {},
   "cell_type": "markdown",
   "metadata": {},
   "source": [
    "# Stretch"
   ]
  },
  {
   "attachments": {},
   "cell_type": "markdown",
   "metadata": {},
   "source": [
    "How can you turn the regression model into a classification model?"
   ]
  },
  {
   "attachments": {},
   "cell_type": "markdown",
   "metadata": {},
   "source": [
    "To turn the regression problem into a classification problem, we need to define classes or categories for the target variable (number of bikes) and then assign instances to these classes based on certain criteria.\n",
    "\n",
    "- Define Classes: we can define classes based on ranges or thresholds. For example, we create three classes: \"Low Bikes\" (0-10 bikes), \"Medium Bikes\" (11-20 bikes), and \"High Bikes\" (21 or more bikes).\n",
    "\n",
    "- Data Preprocessing: Prepare the dataset by assigning each instance to the appropriate class based on the defined ranges. This requires discretizing the target variable (number of bikes) and creating a new column with the assigned class labels.\n",
    "\n",
    "- Feature Selection: Identify the most relevant features (independent variables) that can help classify the instances into the defined classes. Consider variables such as restaurant count, average rating, and any other relevant features that may contribute to the classification task.\n",
    "\n",
    "- Model Selection: Choose an appropriate classification algorithm for the problem. Common algorithms for classification include logistic regression, decision trees, random forests, and support vector machines (SVM). The choice of algorithm depends on the characteristics of the dataset, the number of features, and the desired interpretability of the model.\n",
    "\n",
    "- Model Training and Evaluation: Split the dataset into training and testing sets. Train the chosen classification model using the training data and evaluate its performance using appropriate metrics such as accuracy, precision, recall, and F1-score.\n",
    "\n",
    "- Model Deployment and Evaluation: Evaluate the model's performance on the test set and monitor its accuracy over time. We can consider using additional techniques like feature importance analysis to gain insights into the factors influencing the classification.\n",
    "\n",
    "Overall, the key steps involve defining classes, transforming the problem into a classification task, selecting relevant features, choosing an appropriate classification algorithm, training and evaluating the model, and optimizing its performance. By doing so, we can predict the classes (low, medium, high) of bike availability based on the given independent variables."
   ]
  }
 ],
 "metadata": {
  "kernelspec": {
   "display_name": "the_one",
   "language": "python",
   "name": "the_one"
  },
  "language_info": {
   "codemirror_mode": {
    "name": "ipython",
    "version": 3
   },
   "file_extension": ".py",
   "mimetype": "text/x-python",
   "name": "python",
   "nbconvert_exporter": "python",
   "pygments_lexer": "ipython3",
   "version": "3.10.9"
  }
 },
 "nbformat": 4,
 "nbformat_minor": 4
}
